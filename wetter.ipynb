{
 "cells": [
  {
   "cell_type": "code",
   "execution_count": null,
   "metadata": {},
   "outputs": [],
   "source": [
    "import pandas as pd\n",
    "from datetime import datetime\n",
    "import glob\n",
    "from collections import namedtuple\n",
    "import operator\n",
    "from functools import reduce"
   ]
  },
  {
   "cell_type": "code",
   "execution_count": null,
   "metadata": {},
   "outputs": [],
   "source": [
    "abbrevs = {\"RR\": {\"names\": (\"Niederschlag\", \"Niederschlag_Indikator\"), \"cols\": (3, 4)},\n",
    "           \"TU\": {\"names\": (\"temp\", \"luftfeuchte\"), \"cols\": (3, 4)},\n",
    "#           \"CS\": namedtuple(names=(\"bedeckungsgrad\",), cols=(),\n",
    "           \"P0\": {\"names\": (\"luftdruck\", \"P0\"), \"cols\": (3, 4)},\n",
    "           \"SD\": {\"names\": (\"sonnenschein\",), \"cols\": (3,)},\n",
    "#           \"N\":  namedtuple(names=(\"bedeckungsgrad\",\n",
    "           \"EB\": {\"names\": (\"erdbodentemp\",), \"cols\": (4, 5, 6, 7, 8)},\n",
    "           \"FF\": {\"names\": (\"windgeschwindigkeit\", \"windrichtung\",), \"cols\": (3, 4)},\n",
    "          }\n",
    "#           \"VV\": \"sichtweite\"}"
   ]
  },
  {
   "cell_type": "code",
   "execution_count": null,
   "metadata": {},
   "outputs": [],
   "source": [
    "for abbr in abbrevs:\n",
    "    fname, = glob.glob(f\"*{abbr}*hist/produkt*.txt\")\n",
    "    abbrevs[abbr][\"filename\"] = fname"
   ]
  },
  {
   "cell_type": "code",
   "execution_count": null,
   "metadata": {},
   "outputs": [],
   "source": [
    "def parser(date_string):\n",
    "    return datetime.strptime(date_string, \"%Y%m%d%H\")\n",
    "\n",
    "def get_data(fname, **kwargs):\n",
    "    data = pd.read_table(fname, sep=\";\", **kwargs)\n",
    "    print(data.columns)\n",
    "    data.MESS_DATUM = pd.to_datetime(data.MESS_DATUM, format=\"%Y%m%d%H\")\n",
    "    return data"
   ]
  },
  {
   "cell_type": "code",
   "execution_count": null,
   "metadata": {},
   "outputs": [],
   "source": [
    "for abbr in abbrevs:\n",
    "    print(abbr)\n",
    "    fname = abbrevs[abbr][\"filename\"]\n",
    "    print(fname)\n",
    "    df = get_data(fname)\n",
    "df"
   ]
  },
  {
   "cell_type": "code",
   "execution_count": null,
   "metadata": {},
   "outputs": [],
   "source": [
    "df = pd.read_table(\"stundenwerte_RR_02932_19950901_20171231_hist/produkt_rr_stunde_19950901_20171231_02932.txt\", sep=\";\")\n",
    "df.MESS_DATUM = pd.to_datetime(df.MESS_DATUM, format=\"%Y%m%d%H\")\n",
    "df.set_index(\"MESS_DATUM\")"
   ]
  },
  {
   "cell_type": "code",
   "execution_count": null,
   "metadata": {},
   "outputs": [],
   "source": []
  }
 ],
 "metadata": {
  "kernelspec": {
   "display_name": "Python [conda env:anaconda3]",
   "language": "python",
   "name": "conda-env-anaconda3-py"
  },
  "language_info": {
   "codemirror_mode": {
    "name": "ipython",
    "version": 3
   },
   "file_extension": ".py",
   "mimetype": "text/x-python",
   "name": "python",
   "nbconvert_exporter": "python",
   "pygments_lexer": "ipython3",
   "version": "3.6.3"
  }
 },
 "nbformat": 4,
 "nbformat_minor": 2
}
